{
 "cells": [
  {
   "cell_type": "code",
   "execution_count": 113,
   "id": "d9d99a77",
   "metadata": {},
   "outputs": [],
   "source": [
    "from cryptography.fernet import Fernet\n",
    "import base64\n",
    "from IPython.display import Image\n"
   ]
  },
  {
   "cell_type": "code",
   "execution_count": 130,
   "id": "dfd19345",
   "metadata": {},
   "outputs": [
    {
     "ename": "SyntaxError",
     "evalue": "invalid syntax (2619964375.py, line 1)",
     "output_type": "error",
     "traceback": [
      "\u001b[1;36m  Input \u001b[1;32mIn [130]\u001b[1;36m\u001b[0m\n\u001b[1;33m    base64 --decode ./encrypted (1).png > ./decrypted.png\u001b[0m\n\u001b[1;37m                     ^\u001b[0m\n\u001b[1;31mSyntaxError\u001b[0m\u001b[1;31m:\u001b[0m invalid syntax\n"
     ]
    }
   ],
   "source": [
    "base64 --decode ./encrypted (1).png > ./decrypted.png\n"
   ]
  },
  {
   "cell_type": "code",
   "execution_count": 125,
   "id": "f27d1303",
   "metadata": {},
   "outputs": [],
   "source": [
    "key = \"eG1Edk1tdGlTbWxQa21RWmhTYVEzRlZTSUNDaDljb1VzOVFjajhsaGNyMD0=\"\n",
    "# # print(len(key.encode(\"utf-8\")))\n",
    "# key = base64.b64decode('eG1Edk1tdGlTbWxQa21RWmhTYVEzRlZTSUNDaDljb1VzOVFjajhsaGNyMD0='.encode('utf-8'))\n",
    "key = base64.urlsafe_b64decode(\"eG1Edk1tdGlTbWxQa21RWmhTYVEzRlZTSUNDaDljb1VzOVFjajhsaGNyMD0=\")"
   ]
  },
  {
   "cell_type": "code",
   "execution_count": 92,
   "id": "4c48814c",
   "metadata": {},
   "outputs": [
    {
     "data": {
      "text/plain": [
       "44"
      ]
     },
     "execution_count": 92,
     "metadata": {},
     "output_type": "execute_result"
    }
   ],
   "source": [
    "len(key)"
   ]
  },
  {
   "cell_type": "code",
   "execution_count": 128,
   "id": "00c2f2e6",
   "metadata": {},
   "outputs": [],
   "source": [
    "def decrypt(filename, key):\n",
    "    ff = base64.b64decode(filename)\n",
    "    f = Fernet(key)\n",
    "    with open(filename, \"rb\") as file:\n",
    "        encrypted_data = file.read()\n",
    "        print(encrypted_data)\n",
    "        \n",
    "    try:\n",
    "        decrypted_data = f.decrypt(encrypted_data)\n",
    "    except:\n",
    "        print(\"Invalid token, most likely the password is incorrect\")\n",
    "        return\n",
    "    \n",
    "    # write the original file\n",
    "    with open(filename, \"wb\") as file:\n",
    "        file.write(decrypted_data)\n",
    "    print(\"File decrypted successfully\")\n"
   ]
  },
  {
   "cell_type": "code",
   "execution_count": 129,
   "id": "fde987bb",
   "metadata": {},
   "outputs": [
    {
     "ename": "Error",
     "evalue": "Incorrect padding",
     "output_type": "error",
     "traceback": [
      "\u001b[1;31m---------------------------------------------------------------------------\u001b[0m",
      "\u001b[1;31mError\u001b[0m                                     Traceback (most recent call last)",
      "Input \u001b[1;32mIn [129]\u001b[0m, in \u001b[0;36m<cell line: 2>\u001b[1;34m()\u001b[0m\n\u001b[0;32m      1\u001b[0m \u001b[38;5;66;03m# key = load_key()\u001b[39;00m\n\u001b[1;32m----> 2\u001b[0m \u001b[43mdecrypt\u001b[49m\u001b[43m(\u001b[49m\u001b[38;5;124;43m\"\u001b[39;49m\u001b[38;5;124;43m./encrypted (1).png\u001b[39;49m\u001b[38;5;124;43m\"\u001b[39;49m\u001b[43m,\u001b[49m\u001b[43m \u001b[49m\u001b[43mkey\u001b[49m\u001b[43m)\u001b[49m\n",
      "Input \u001b[1;32mIn [128]\u001b[0m, in \u001b[0;36mdecrypt\u001b[1;34m(filename, key)\u001b[0m\n\u001b[0;32m      1\u001b[0m \u001b[38;5;28;01mdef\u001b[39;00m \u001b[38;5;21mdecrypt\u001b[39m(filename, key):\n\u001b[1;32m----> 2\u001b[0m     ff \u001b[38;5;241m=\u001b[39m \u001b[43mbase64\u001b[49m\u001b[38;5;241;43m.\u001b[39;49m\u001b[43mb64decode\u001b[49m\u001b[43m(\u001b[49m\u001b[43mfilename\u001b[49m\u001b[43m)\u001b[49m\n\u001b[0;32m      3\u001b[0m     f \u001b[38;5;241m=\u001b[39m Fernet(key)\n\u001b[0;32m      4\u001b[0m     \u001b[38;5;28;01mwith\u001b[39;00m \u001b[38;5;28mopen\u001b[39m(filename, \u001b[38;5;124m\"\u001b[39m\u001b[38;5;124mrb\u001b[39m\u001b[38;5;124m\"\u001b[39m) \u001b[38;5;28;01mas\u001b[39;00m file:\n",
      "File \u001b[1;32m~\\.julia\\conda\\3\\lib\\base64.py:87\u001b[0m, in \u001b[0;36mb64decode\u001b[1;34m(s, altchars, validate)\u001b[0m\n\u001b[0;32m     85\u001b[0m \u001b[38;5;28;01mif\u001b[39;00m validate \u001b[38;5;129;01mand\u001b[39;00m \u001b[38;5;129;01mnot\u001b[39;00m re\u001b[38;5;241m.\u001b[39mfullmatch(\u001b[38;5;124mb\u001b[39m\u001b[38;5;124m'\u001b[39m\u001b[38;5;124m[A-Za-z0-9+/]*=\u001b[39m\u001b[38;5;124m{\u001b[39m\u001b[38;5;124m0,2}\u001b[39m\u001b[38;5;124m'\u001b[39m, s):\n\u001b[0;32m     86\u001b[0m     \u001b[38;5;28;01mraise\u001b[39;00m binascii\u001b[38;5;241m.\u001b[39mError(\u001b[38;5;124m'\u001b[39m\u001b[38;5;124mNon-base64 digit found\u001b[39m\u001b[38;5;124m'\u001b[39m)\n\u001b[1;32m---> 87\u001b[0m \u001b[38;5;28;01mreturn\u001b[39;00m \u001b[43mbinascii\u001b[49m\u001b[38;5;241;43m.\u001b[39;49m\u001b[43ma2b_base64\u001b[49m\u001b[43m(\u001b[49m\u001b[43ms\u001b[49m\u001b[43m)\u001b[49m\n",
      "\u001b[1;31mError\u001b[0m: Incorrect padding"
     ]
    }
   ],
   "source": [
    "# key = load_key()\n",
    "decrypt(\"./encrypted (1).png\", key)"
   ]
  },
  {
   "cell_type": "code",
   "execution_count": null,
   "id": "2ad2e089",
   "metadata": {},
   "outputs": [],
   "source": []
  }
 ],
 "metadata": {
  "kernelspec": {
   "display_name": "Python 3 (ipykernel)",
   "language": "python",
   "name": "python3"
  },
  "language_info": {
   "codemirror_mode": {
    "name": "ipython",
    "version": 3
   },
   "file_extension": ".py",
   "mimetype": "text/x-python",
   "name": "python",
   "nbconvert_exporter": "python",
   "pygments_lexer": "ipython3",
   "version": "3.9.13"
  }
 },
 "nbformat": 4,
 "nbformat_minor": 5
}
